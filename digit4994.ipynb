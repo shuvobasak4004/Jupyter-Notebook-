{
 "cells": [
  {
   "cell_type": "code",
   "execution_count": 2,
   "id": "56d97e24-fdf9-4046-becb-cd4875c3c8ec",
   "metadata": {},
   "outputs": [
    {
     "name": "stderr",
     "output_type": "stream",
     "text": [
      "D:\\anapy\\Lib\\site-packages\\keras\\src\\layers\\reshaping\\flatten.py:37: UserWarning: Do not pass an `input_shape`/`input_dim` argument to a layer. When using Sequential models, prefer using an `Input(shape)` object as the first layer in the model instead.\n",
      "  super().__init__(**kwargs)\n"
     ]
    },
    {
     "name": "stdout",
     "output_type": "stream",
     "text": [
      "Epoch 1/5\n",
      "\u001b[1m263/263\u001b[0m \u001b[32m━━━━━━━━━━━━━━━━━━━━\u001b[0m\u001b[37m\u001b[0m \u001b[1m2s\u001b[0m 4ms/step - accuracy: 0.7820 - loss: 0.7961 - val_accuracy: 0.9251 - val_loss: 0.2630\n",
      "Epoch 2/5\n",
      "\u001b[1m263/263\u001b[0m \u001b[32m━━━━━━━━━━━━━━━━━━━━\u001b[0m\u001b[37m\u001b[0m \u001b[1m1s\u001b[0m 3ms/step - accuracy: 0.9364 - loss: 0.2246 - val_accuracy: 0.9468 - val_loss: 0.1888\n",
      "Epoch 3/5\n",
      "\u001b[1m263/263\u001b[0m \u001b[32m━━━━━━━━━━━━━━━━━━━━\u001b[0m\u001b[37m\u001b[0m \u001b[1m1s\u001b[0m 3ms/step - accuracy: 0.9550 - loss: 0.1582 - val_accuracy: 0.9531 - val_loss: 0.1620\n",
      "Epoch 4/5\n",
      "\u001b[1m263/263\u001b[0m \u001b[32m━━━━━━━━━━━━━━━━━━━━\u001b[0m\u001b[37m\u001b[0m \u001b[1m1s\u001b[0m 3ms/step - accuracy: 0.9662 - loss: 0.1230 - val_accuracy: 0.9596 - val_loss: 0.1397\n",
      "Epoch 5/5\n",
      "\u001b[1m263/263\u001b[0m \u001b[32m━━━━━━━━━━━━━━━━━━━━\u001b[0m\u001b[37m\u001b[0m \u001b[1m1s\u001b[0m 3ms/step - accuracy: 0.9717 - loss: 0.1012 - val_accuracy: 0.9643 - val_loss: 0.1259\n",
      "\u001b[1m875/875\u001b[0m \u001b[32m━━━━━━━━━━━━━━━━━━━━\u001b[0m\u001b[37m\u001b[0m \u001b[1m1s\u001b[0m 1ms/step\n",
      "Submission file created at: F:\\MLpractrice\\Digitecognizer\\data\\digit-recognizer\\submission.csv\n"
     ]
    }
   ],
   "source": [
    "import pandas as pd\n",
    "import numpy as np\n",
    "from keras.models import Sequential\n",
    "from keras.layers import Dense, Flatten\n",
    "from tensorflow.keras.utils import to_categorical  # Updated import for to_categorical\n",
    "from sklearn.model_selection import train_test_split\n",
    "\n",
    "# Load the training data (train.csv)\n",
    "train_path = r\"F:\\MLpractrice\\Digitecognizer\\data\\digit-recognizer\\train.csv\"\n",
    "train_df = pd.read_csv(train_path)\n",
    "\n",
    "# Load the test data (test.csv)\n",
    "test_path = r\"F:\\MLpractrice\\Digitecognizer\\data\\digit-recognizer\\test.csv\"\n",
    "test_df = pd.read_csv(test_path)\n",
    "\n",
    "# Extract features and labels from the training set\n",
    "X = train_df.drop('label', axis=1).values  # Features (pixel values)\n",
    "y = train_df['label'].values  # Labels (digit labels)\n",
    "\n",
    "# Normalize the pixel values to be between 0 and 1\n",
    "X = X / 255.0\n",
    "\n",
    "# One-hot encode the labels\n",
    "y = to_categorical(y, 10)  # 10 classes for digits 0-9\n",
    "\n",
    "# Split the training data into a training and validation set\n",
    "X_train, X_val, y_train, y_val = train_test_split(X, y, test_size=0.2, random_state=42)\n",
    "\n",
    "# Build a simple neural network model\n",
    "model = Sequential()\n",
    "model.add(Flatten(input_shape=(784,)))  # Flatten the input data\n",
    "model.add(Dense(128, activation='relu'))  # Hidden layer with 128 neurons and ReLU activation\n",
    "model.add(Dense(10, activation='softmax'))  # Output layer with 10 neurons (digits 0-9)\n",
    "\n",
    "# Compile the model\n",
    "model.compile(loss='categorical_crossentropy', optimizer='adam', metrics=['accuracy'])\n",
    "\n",
    "# Train the model\n",
    "model.fit(X_train, y_train, validation_data=(X_val, y_val), epochs=5, batch_size=128)\n",
    "\n",
    "# Make predictions on the test set\n",
    "X_test = test_df.values / 255.0  # Normalize the test data\n",
    "predictions = model.predict(X_test)\n",
    "\n",
    "# Get the predicted labels (digits)\n",
    "predicted_labels = np.argmax(predictions, axis=1)\n",
    "\n",
    "# Create the submission dataframe\n",
    "submission_df = pd.DataFrame({\n",
    "    'ImageId': np.arange(1, len(predicted_labels) + 1),\n",
    "    'Label': predicted_labels\n",
    "})\n",
    "\n",
    "# Save the submission file (submission.csv)\n",
    "submission_path = r\"F:\\MLpractrice\\Digitecognizer\\data\\digit-recognizer\\submission.csv\"\n",
    "submission_df.to_csv(submission_path, index=False)\n",
    "\n",
    "print(\"Submission file created at:\", submission_path)\n"
   ]
  },
  {
   "cell_type": "code",
   "execution_count": null,
   "id": "0d2f8c0d-fd5d-4f5d-8fc1-c6b9adf6c774",
   "metadata": {},
   "outputs": [],
   "source": []
  }
 ],
 "metadata": {
  "kernelspec": {
   "display_name": "Python 3 (ipykernel)",
   "language": "python",
   "name": "python3"
  },
  "language_info": {
   "codemirror_mode": {
    "name": "ipython",
    "version": 3
   },
   "file_extension": ".py",
   "mimetype": "text/x-python",
   "name": "python",
   "nbconvert_exporter": "python",
   "pygments_lexer": "ipython3",
   "version": "3.11.7"
  }
 },
 "nbformat": 4,
 "nbformat_minor": 5
}
