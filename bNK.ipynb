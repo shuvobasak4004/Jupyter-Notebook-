{
 "cells": [
  {
   "cell_type": "code",
   "execution_count": 1,
   "id": "d88abbf2-ba1d-41e6-aa53-6f7697697a10",
   "metadata": {},
   "outputs": [
    {
     "data": {
      "text/plain": [
       "2"
      ]
     },
     "execution_count": 1,
     "metadata": {},
     "output_type": "execute_result"
    }
   ],
   "source": [
    "1+1\n"
   ]
  },
  {
   "cell_type": "code",
   "execution_count": null,
   "id": "101848ed-24df-49ae-9c4b-9dbdfb2f6916",
   "metadata": {},
   "outputs": [],
   "source": [
    "#prime number"
   ]
  },
  {
   "cell_type": "code",
   "execution_count": 2,
   "id": "9ef0edba-4d90-4da2-983c-756a022ec0f8",
   "metadata": {},
   "outputs": [
    {
     "name": "stdin",
     "output_type": "stream",
     "text": [
      "Enter the start of the range:  1\n",
      "Enter the end of the range:  31\n"
     ]
    },
    {
     "name": "stdout",
     "output_type": "stream",
     "text": [
      "Prime numbers between 1 and 31: [2, 3, 5, 7, 11, 13, 17, 19, 23, 29, 31]\n"
     ]
    }
   ],
   "source": [
    "def is_prime(num):\n",
    "    if num <= 1:\n",
    "        return False\n",
    "    for i in range(2, int(num**0.5) + 1):\n",
    "        if num % i == 0:\n",
    "            return False\n",
    "    return True\n",
    "\n",
    "def find_primes_in_range(start, end):\n",
    "    primes = []\n",
    "    for num in range(start, end + 1):\n",
    "        if is_prime(num):\n",
    "            primes.append(num)\n",
    "    return primes\n",
    "\n",
    "# Get user input for range\n",
    "start = int(input(\"Enter the start of the range: \"))\n",
    "end = int(input(\"Enter the end of the range: \"))\n",
    "\n",
    "# Find and print primes in the given range\n",
    "prime_numbers = find_primes_in_range(start, end)\n",
    "print(f\"Prime numbers between {start} and {end}: {prime_numbers}\")\n"
   ]
  },
  {
   "cell_type": "code",
   "execution_count": 3,
   "id": "959091a4-e13e-42b4-9fa4-5361807df3a7",
   "metadata": {},
   "outputs": [
    {
     "name": "stdout",
     "output_type": "stream",
     "text": [
      "Requirement already satisfied: sympy in d:\\anapy\\lib\\site-packages (1.12)\n",
      "Requirement already satisfied: mpmath>=0.19 in d:\\anapy\\lib\\site-packages (from sympy) (1.3.0)\n"
     ]
    }
   ],
   "source": [
    "!pip install sympy\n"
   ]
  },
  {
   "cell_type": "code",
   "execution_count": 4,
   "id": "99f26bf4-87b3-4436-876e-de462f4e6421",
   "metadata": {},
   "outputs": [
    {
     "name": "stdin",
     "output_type": "stream",
     "text": [
      "Enter the start of the range:  1\n",
      "Enter the end of the range:  31\n"
     ]
    },
    {
     "name": "stdout",
     "output_type": "stream",
     "text": [
      "Prime numbers between 1 and 31: [2, 3, 5, 7, 11, 13, 17, 19, 23, 29, 31]\n"
     ]
    }
   ],
   "source": [
    "import sympy\n",
    "\n",
    "# Get user input for range\n",
    "start = int(input(\"Enter the start of the range: \"))\n",
    "end = int(input(\"Enter the end of the range: \"))\n",
    "\n",
    "# Generate prime numbers in the range using sympy's primerange\n",
    "prime_numbers = list(sympy.primerange(start, end + 1))\n",
    "\n",
    "# Output the prime numbers\n",
    "print(f\"Prime numbers between {start} and {end}: {prime_numbers}\")\n"
   ]
  },
  {
   "cell_type": "code",
   "execution_count": null,
   "id": "0793aa21-9871-4116-af66-9915cddf342a",
   "metadata": {},
   "outputs": [],
   "source": [
    "count number string"
   ]
  },
  {
   "cell_type": "code",
   "execution_count": 5,
   "id": "e3405db6-1f78-4639-bf92-87dd4694e657",
   "metadata": {},
   "outputs": [
    {
     "name": "stdin",
     "output_type": "stream",
     "text": [
      "Enter a string:  hi i am shu\n"
     ]
    },
    {
     "name": "stdout",
     "output_type": "stream",
     "text": [
      "Number of words: 4\n"
     ]
    }
   ],
   "source": [
    "# Take input from the user\n",
    "text = input(\"Enter a string: \")\n",
    "\n",
    "# Split the string by spaces and count the number of words\n",
    "word_count = len(text.split())\n",
    "\n",
    "# Output the count of words\n",
    "print(f\"Number of words: {word_count}\")\n"
   ]
  },
  {
   "cell_type": "code",
   "execution_count": 6,
   "id": "b9a36aff-73cf-420a-a9ce-93820809ff32",
   "metadata": {},
   "outputs": [
    {
     "name": "stdin",
     "output_type": "stream",
     "text": [
      "Enter a number:  5\n"
     ]
    },
    {
     "name": "stdout",
     "output_type": "stream",
     "text": [
      "1\n",
      "22\n",
      "333\n",
      "4444\n",
      "55555\n"
     ]
    }
   ],
   "source": [
    "# Take user input for the number\n",
    "n = int(input(\"Enter a number: \"))\n",
    "\n",
    "# Loop through the range and print the required pattern\n",
    "for i in range(1, n + 1):\n",
    "    print(str(i) * i)\n"
   ]
  },
  {
   "cell_type": "code",
   "execution_count": 7,
   "id": "618a7a24-9770-44d8-9e35-6606d056eb9b",
   "metadata": {},
   "outputs": [
    {
     "name": "stdin",
     "output_type": "stream",
     "text": [
      "Enter a number:  121\n"
     ]
    },
    {
     "name": "stdout",
     "output_type": "stream",
     "text": [
      "121 is a palindrome.\n"
     ]
    }
   ],
   "source": [
    "# Take input from the user\n",
    "num = input(\"Enter a number: \")\n",
    "\n",
    "# Check if the number is a palindrome\n",
    "if num == num[::-1]:\n",
    "    print(f\"{num} is a palindrome.\")\n",
    "else:\n",
    "    print(f\"{num} is not a palindrome.\")\n"
   ]
  },
  {
   "cell_type": "code",
   "execution_count": 8,
   "id": "966625c6-167f-4298-9c56-0dea1deb33e6",
   "metadata": {},
   "outputs": [
    {
     "name": "stdin",
     "output_type": "stream",
     "text": [
      "Enter a string:  qwe\n"
     ]
    },
    {
     "name": "stdout",
     "output_type": "stream",
     "text": [
      "Reversed string: ewq\n"
     ]
    }
   ],
   "source": [
    "# Take input from the user\n",
    "text = input(\"Enter a string: \")\n",
    "\n",
    "# Reverse the string using slicing\n",
    "reversed_text = text[::-1]\n",
    "\n",
    "# Print the reversed string\n",
    "print(\"Reversed string:\", reversed_text)\n"
   ]
  },
  {
   "cell_type": "code",
   "execution_count": 9,
   "id": "f31f9218-8cba-4096-a09f-f1f9b6cad82f",
   "metadata": {},
   "outputs": [
    {
     "name": "stdin",
     "output_type": "stream",
     "text": [
      "Enter a string:  qwe\n"
     ]
    },
    {
     "name": "stdout",
     "output_type": "stream",
     "text": [
      "Reversed string: ewq\n"
     ]
    }
   ],
   "source": [
    "# Take input from the user\n",
    "text = input(\"Enter a string: \")\n",
    "\n",
    "# Initialize an empty string\n",
    "reversed_text = \"\"\n",
    "\n",
    "# Loop through the string backwards and add each character to reversed_text\n",
    "for char in text:\n",
    "    reversed_text = char + reversed_text\n",
    "\n",
    "# Print the reversed string\n",
    "print(\"Reversed string:\", reversed_text)\n"
   ]
  },
  {
   "cell_type": "code",
   "execution_count": 10,
   "id": "b18b1b76-a871-40c7-8382-a8652771091a",
   "metadata": {},
   "outputs": [
    {
     "name": "stdin",
     "output_type": "stream",
     "text": [
      "Enter the number of rows:  5\n"
     ]
    },
    {
     "name": "stdout",
     "output_type": "stream",
     "text": [
      "*****\n",
      "****\n",
      "***\n",
      "**\n",
      "*\n"
     ]
    }
   ],
   "source": [
    "# Take input from the user\n",
    "n = int(input(\"Enter the number of rows: \"))\n",
    "\n",
    "# Loop to print the inverted half pyramid\n",
    "for i in range(n, 0, -1):\n",
    "    print('*' * i)\n"
   ]
  },
  {
   "cell_type": "code",
   "execution_count": 15,
   "id": "d9fef311-aa39-41d5-bdb3-2fe1d2eaf502",
   "metadata": {},
   "outputs": [
    {
     "name": "stdin",
     "output_type": "stream",
     "text": [
      "Enter your username:  sh\n",
      "Enter your password:  rrrrrrrrr\n",
      "Enter your phone number:  93\n"
     ]
    },
    {
     "name": "stdout",
     "output_type": "stream",
     "text": [
      "Phone number must be 10 digits.\n"
     ]
    }
   ],
   "source": [
    "# Take user inputs\n",
    "username = input(\"Enter your username: \")\n",
    "password = input(\"Enter your password: \")\n",
    "phone_number = input(\"Enter your phone number: \")\n",
    "\n",
    "# Basic validation\n",
    "if len(password) < 8:\n",
    "    print(\"Password must be at least 8 characters long.\")\n",
    "elif not password.isalnum():\n",
    "    print(\"Password must contain only letters and numbers.\")\n",
    "elif len(phone_number) != 10 or not phone_number.isdigit():\n",
    "    print(\"Phone number must be 10 digits.\")\n",
    "else:\n",
    "    print(\"\\nRegistration Successful!\")\n",
    "    print(f\"Username: {username}\")\n",
    "    print(f\"Phone Number: {phone_number}\")\n"
   ]
  },
  {
   "cell_type": "code",
   "execution_count": 19,
   "id": "7bc0ee58-f52f-4183-b3a2-612ecc617875",
   "metadata": {},
   "outputs": [
    {
     "name": "stdin",
     "output_type": "stream",
     "text": [
      "Enter a number:  33456\n"
     ]
    },
    {
     "name": "stdout",
     "output_type": "stream",
     "text": [
      "Sum of digits: 21\n",
      "Sum of digits: 3\n",
      "Final single digit result: 3\n"
     ]
    }
   ],
   "source": [
    "# Take input of a number (can have spaces)\n",
    "number = input(\"Enter a number: \")\n",
    "\n",
    "# Remove spaces from the input if there are any\n",
    "number = number.replace(\" \", \"\")\n",
    "\n",
    "# Check if the input is numeric\n",
    "if not number.isdigit():\n",
    "    print(\"Please enter a valid number.\")\n",
    "else:\n",
    "    # Convert the string to a list of digits (int type)\n",
    "    while len(number) > 1:\n",
    "        sum_of_digits = sum(int(digit) for digit in number)  # Sum all digits\n",
    "        print(f\"Sum of digits: {sum_of_digits}\")\n",
    "        number = str(sum_of_digits)  # Convert the sum back into a string\n",
    "    \n",
    "    # Final single-digit result\n",
    "    print(f\"Final single digit result: {number}\")\n"
   ]
  },
  {
   "cell_type": "code",
   "execution_count": 22,
   "id": "36617829-9006-4c22-baa6-8c05f86cc173",
   "metadata": {},
   "outputs": [
    {
     "name": "stdin",
     "output_type": "stream",
     "text": [
      "Enter a list of items separated by commas (e.g., a,b,c):  a,b,c\n"
     ]
    },
    {
     "name": "stdout",
     "output_type": "stream",
     "text": [
      "1. a\n",
      "2. b\n",
      "3. c\n"
     ]
    }
   ],
   "source": [
    "# Take input as a string and remove spaces if any\n",
    "user_input = input(\"Enter a list of items separated by commas (e.g., a,b,c): \")\n",
    "\n",
    "# Convert the input string into a list of items\n",
    "items = [item.strip() for item in user_input.split(',')]\n",
    "\n",
    "# Loop through the list and print each item with the desired format\n",
    "for index, item in enumerate(items, start=1):\n",
    "    # Print in the format \"i. a\", \"ii. b\", etc.\n",
    "    print(f\"{index}. {item}\")\n"
   ]
  },
  {
   "cell_type": "code",
   "execution_count": 23,
   "id": "6c68bec6-4821-452d-8d93-9b2d765c7a10",
   "metadata": {},
   "outputs": [
    {
     "name": "stdin",
     "output_type": "stream",
     "text": [
      "Enter a number to calculate its factorial:  4\n"
     ]
    },
    {
     "name": "stdout",
     "output_type": "stream",
     "text": [
      "The factorial of 4 is 24\n"
     ]
    }
   ],
   "source": [
    "# Recursive function to calculate factorial\n",
    "def factorial(n):\n",
    "    # Base case: factorial of 0 or 1 is 1\n",
    "    if n == 0 or n == 1:\n",
    "        return 1\n",
    "    else:\n",
    "        # Recursive case: n * factorial of (n-1)\n",
    "        return n * factorial(n - 1)\n",
    "\n",
    "# Take input from the user\n",
    "number = int(input(\"Enter a number to calculate its factorial: \"))\n",
    "\n",
    "# Ensure the input is a positive integer\n",
    "if number < 0:\n",
    "    print(\"Factorial is not defined for negative numbers.\")\n",
    "else:\n",
    "    # Call the factorial function and print the result\n",
    "    print(f\"The factorial of {number} is {factorial(number)}\")\n"
   ]
  },
  {
   "cell_type": "code",
   "execution_count": null,
   "id": "9bdf2058-3855-4ba5-8cf4-7e9fe924716b",
   "metadata": {},
   "outputs": [],
   "source": [
    "import math\n",
    "\n",
    "# Take input from the user\n",
    "number = int(input(\"Enter a number to calculate its factorial: \"))\n",
    "\n",
    "# Ensure the input is a non-negative integer\n",
    "if number < 0:\n",
    "    print(\"Factorial is not defined for negative numbers.\")\n",
    "else:\n",
    "    # Using the built-in math.factorial() function\n",
    "    result = math.factorial(number)\n",
    "    print(f\"The factorial of {number} is {result}\")\n"
   ]
  },
  {
   "cell_type": "code",
   "execution_count": 24,
   "id": "ebe7abdf-6a24-4a63-ad96-0d9807161d4e",
   "metadata": {},
   "outputs": [
    {
     "name": "stdin",
     "output_type": "stream",
     "text": [
      "Enter a string with letters and digits:  ab23juju\n"
     ]
    },
    {
     "name": "stdout",
     "output_type": "stream",
     "text": [
      "Sorted output: 23abjjuu\n"
     ]
    }
   ],
   "source": [
    "# Take input from the user\n",
    "input_string = input(\"Enter a string with letters and digits: \")\n",
    "\n",
    "# Separate digits and letters using list comprehension\n",
    "digits = [char for char in input_string if char.isdigit()]\n",
    "letters = [char for char in input_string if char.isalpha()]\n",
    "\n",
    "# Sort the digits and letters\n",
    "digits.sort()\n",
    "letters.sort()\n",
    "\n",
    "# Combine the sorted digits and letters\n",
    "sorted_string = ''.join(digits) + ''.join(letters)\n",
    "\n",
    "# Print the result\n",
    "print(f\"Sorted output: {sorted_string}\")\n"
   ]
  },
  {
   "cell_type": "code",
   "execution_count": 25,
   "id": "f9c99cc7-a7b7-4a25-922f-322f8aab6a4b",
   "metadata": {},
   "outputs": [
    {
     "name": "stdin",
     "output_type": "stream",
     "text": [
      "Enter a string:  i got aa bbg\n"
     ]
    },
    {
     "name": "stdout",
     "output_type": "stream",
     "text": [
      "Output: IGotAaBbg\n"
     ]
    }
   ],
   "source": [
    "# Take input from the user\n",
    "input_string = input(\"Enter a string: \")\n",
    "\n",
    "# Convert the input string to title case by capitalizing the first letter of each word\n",
    "# Remove spaces, join the words, and capitalize each word\n",
    "output_string = ''.join(word.capitalize() for word in input_string.split())\n",
    "\n",
    "# Print the result\n",
    "print(f\"Output: {output_string}\")\n"
   ]
  },
  {
   "cell_type": "code",
   "execution_count": 26,
   "id": "d8cc1b50-5ac4-47dd-acbd-9925aee3d228",
   "metadata": {},
   "outputs": [
    {
     "name": "stdin",
     "output_type": "stream",
     "text": [
      "Enter the number of rows for the triangle:  5\n"
     ]
    },
    {
     "name": "stdout",
     "output_type": "stream",
     "text": [
      "    1\n",
      "   232\n",
      "  34543\n",
      " 4567654\n",
      "567898765\n"
     ]
    }
   ],
   "source": [
    "# Function to print the triangle pattern\n",
    "def print_triangle(n):\n",
    "    for i in range(1, n+1):\n",
    "        # Print leading spaces to center the pattern\n",
    "        print(\" \" * (n - i), end=\"\")\n",
    "        \n",
    "        # Print the increasing numbers from i to (2*i - 1)\n",
    "        for j in range(i, 2 * i):\n",
    "            print(j, end=\"\")\n",
    "        \n",
    "        # Print the decreasing numbers from (2*i - 2) to i\n",
    "        for j in range(2 * i - 2, i - 1, -1):\n",
    "            print(j, end=\"\")\n",
    "        \n",
    "        # Move to the next line\n",
    "        print()\n",
    "\n",
    "# Take input from the user for the number of rows\n",
    "rows = int(input(\"Enter the number of rows for the triangle: \"))\n",
    "\n",
    "# Call the function to print the pattern\n",
    "print_triangle(rows)\n"
   ]
  },
  {
   "cell_type": "code",
   "execution_count": 27,
   "id": "cf43678f-1d17-4cf6-a06c-e5465c0320c8",
   "metadata": {},
   "outputs": [
    {
     "name": "stdin",
     "output_type": "stream",
     "text": [
      "Enter the number of rows for the triangle:  9\n"
     ]
    },
    {
     "name": "stdout",
     "output_type": "stream",
     "text": [
      "        *\n",
      "       ***\n",
      "      *****\n",
      "     *******\n",
      "    *********\n",
      "   ***********\n",
      "  *************\n",
      " ***************\n",
      "*****************\n"
     ]
    }
   ],
   "source": [
    "# Function to print the triangle pattern with stars\n",
    "def print_star_triangle(n):\n",
    "    for i in range(1, n+1):\n",
    "        # Print leading spaces to center the pattern\n",
    "        print(\" \" * (n - i), end=\"\")\n",
    "        \n",
    "        # Print the first part of the stars (increasing stars)\n",
    "        for j in range(1, i * 2):\n",
    "            print(\"*\", end=\"\")\n",
    "        \n",
    "        # Move to the next line after each row is printed\n",
    "        print()\n",
    "\n",
    "# Take input from the user for the number of rows\n",
    "rows = int(input(\"Enter the number of rows for the triangle: \"))\n",
    "\n",
    "# Call the function to print the pattern\n",
    "print_star_triangle(rows)\n"
   ]
  },
  {
   "cell_type": "code",
   "execution_count": 29,
   "id": "da935ec7-6291-4474-a52f-348da31b0b83",
   "metadata": {},
   "outputs": [
    {
     "name": "stdin",
     "output_type": "stream",
     "text": [
      "Enter a binary number:  100\n"
     ]
    },
    {
     "name": "stdout",
     "output_type": "stream",
     "text": [
      "The decimal value of 100 is 4\n"
     ]
    }
   ],
   "source": [
    "# Function to convert binary to decimal\n",
    "def binary_to_decimal(binary_str):\n",
    "    decimal = 0\n",
    "    # Loop through the binary string in reverse order\n",
    "    for i in range(len(binary_str)):\n",
    "        # Get the bit value (0 or 1)\n",
    "        bit = int(binary_str[-(i + 1)])\n",
    "        # Calculate the power of 2 for the current bit\n",
    "        decimal += bit * (2 ** i)\n",
    "    return decimal\n",
    "\n",
    "# Take input from the user\n",
    "binary_input = input(\"Enter a binary number: \")\n",
    "\n",
    "# Ensure the input is a valid binary string (only 0s and 1s)\n",
    "if all(char in '01' for char in binary_input):\n",
    "    # Convert and print the result\n",
    "    decimal_value = binary_to_decimal(binary_input)\n",
    "    print(f\"The decimal value of {binary_input} is {decimal_value}\")\n",
    "else:\n",
    "    print(\"Invalid binary number. Please enter only 0s and 1s.\")\n"
   ]
  },
  {
   "cell_type": "code",
   "execution_count": null,
   "id": "6a37474e-a635-43c1-9876-8a4294ff83f9",
   "metadata": {},
   "outputs": [],
   "source": [
    "import re\n",
    "\n",
    "def analyze_text(file_path):\n",
    "    # Initialize counters\n",
    "    num_lines = 0\n",
    "    num_words = 0\n",
    "    num_chars = 0\n",
    "    num_digits = 0\n",
    "    special_words = []\n",
    "    special_chars = []\n",
    "\n",
    "    # Open the file in read mode\n",
    "    try:\n",
    "        with open(file_path, 'r') as file:\n",
    "            # Read the content of the file line by line\n",
    "            for line in file:\n",
    "                num_lines += 1\n",
    "                \n",
    "                # Count the number of words in the line\n",
    "                words = line.split()\n",
    "                num_words += len(words)\n",
    "                \n",
    "                # Count the number of characters in the line\n",
    "                num_chars += len(line)\n",
    "                \n",
    "                # Count the number of digits in the line\n",
    "                num_digits += len(re.findall(r'\\d', line))\n",
    "                \n",
    "                # Check for special words or characters in the line\n",
    "                for word in words:\n",
    "                    if not word.isalnum():  # Special words (non-alphanumeric)\n",
    "                        special_words.append(word)\n",
    "                \n",
    "                for char in line:\n",
    "                    if not char.isalnum() and char not in special_chars:\n",
    "                        special_chars.append(char)\n",
    "\n",
    "        # Display the results\n",
    "        print(f\"Number of lines: {num_lines}\")\n",
    "        print(f\"Number of words: {num_words}\")\n",
    "        print(f\"Number of characters: {num_chars}\")\n",
    "        print(f\"Number of digits: {num_digits}\")\n",
    "        print(f\"Special words: {special_words}\")\n",
    "        print(f\"Special characters: {special_chars}\")\n",
    "\n",
    "    except FileNotFoundError:\n",
    "        print(f\"File '{file_path}' not found. Please check the file path.\")\n",
    "\n",
    "# Replace with the path to your file\n",
    "file_path = 'example.txt'\n",
    "\n",
    "# Call the function with the file path\n",
    "analyze_text(file_path)\n"
   ]
  },
  {
   "cell_type": "code",
   "execution_count": 32,
   "id": "547b1b10-a2ad-42cd-96e3-a75a8a027b05",
   "metadata": {},
   "outputs": [
    {
     "name": "stdin",
     "output_type": "stream",
     "text": [
      "Enter a series of numbers separated by commas:  1,5,20\n"
     ]
    },
    {
     "name": "stdout",
     "output_type": "stream",
     "text": [
      "Numbers divisible by 5: [5, 20]\n"
     ]
    }
   ],
   "source": [
    "# Function to check numbers divisible by 5\n",
    "def check_divisible_by_5(numbers):\n",
    "    divisible_by_5 = [num for num in numbers if num % 5 == 0]\n",
    "    \n",
    "    # Print the results\n",
    "    if divisible_by_5:\n",
    "        print(\"Numbers divisible by 5:\", divisible_by_5)\n",
    "    else:\n",
    "        print(\"No numbers divisible by 5.\")\n",
    "\n",
    "# Input: a series of numbers from the user\n",
    "input_string = input(\"Enter a series of numbers separated by commas: \")\n",
    "\n",
    "# Convert the input string to a list of integers (split by commas)\n",
    "numbers = list(map(int, input_string.split(',')))\n",
    "\n",
    "# Call the function to check for divisibility by 5\n",
    "check_divisible_by_5(numbers)\n"
   ]
  },
  {
   "cell_type": "code",
   "execution_count": 34,
   "id": "b22cb8ef-9f73-42dd-958b-63109c8e2017",
   "metadata": {},
   "outputs": [
    {
     "name": "stdin",
     "output_type": "stream",
     "text": [
      "Enter a number to get the Fibonacci series up to the nth number:  5\n"
     ]
    },
    {
     "name": "stdout",
     "output_type": "stream",
     "text": [
      "The Fibonacci series up to the 5th number is: [0, 1, 1, 2, 3]\n"
     ]
    }
   ],
   "source": [
    "def fibonacci_series(n):\n",
    "    if n <= 0:\n",
    "        return \"Input must be a positive integer.\"\n",
    "    \n",
    "    # Initialize the first two Fibonacci numbers\n",
    "    fib_series = [0, 1]\n",
    "    \n",
    "    # Generate Fibonacci numbers from 2 to n-1\n",
    "    for i in range(2, n):\n",
    "        next_fib = fib_series[-1] + fib_series[-2]  # Sum of last two numbers in the series\n",
    "        fib_series.append(next_fib)\n",
    "    \n",
    "    return fib_series\n",
    "\n",
    "# Input: nth Fibonacci number\n",
    "n = int(input(\"Enter a number to get the Fibonacci series up to the nth number: \"))\n",
    "\n",
    "# Output the result\n",
    "series = fibonacci_series(n)\n",
    "\n",
    "# Display the series\n",
    "print(f\"The Fibonacci series up to the {n}th number is: {series}\")\n"
   ]
  },
  {
   "cell_type": "code",
   "execution_count": null,
   "id": "b8cf35cd-e10d-460d-b3ea-9158cd25d010",
   "metadata": {},
   "outputs": [],
   "source": [
    "import math\n",
    "\n",
    "# Function to calculate GCD using Euclidean algorithm\n",
    "def gcd(a, b):\n",
    "    return math.gcd(a, b)\n",
    "\n",
    "# Function to calculate LCM using the relationship with GCD\n",
    "def lcm(a, b):\n",
    "    return abs(a * b) // gcd(a, b)\n",
    "\n",
    "# Input: two numbers\n",
    "num1 = int(input(\"Enter the first number: \"))\n",
    "num2 = int(input(\"Enter the second number: \"))\n",
    "\n",
    "# Calculate and print GCD\n",
    "gcd_result = gcd(num1, num2)\n",
    "print(f\"The GCD of {num1} and {num2} is: {gcd_result}\")\n",
    "\n",
    "# Calculate and print LCM\n",
    "lcm_result = lcm(num1, num2)\n",
    "print(f\"The LCM of {num1} and {num2} is: {lcm_result}\")\n"
   ]
  },
  {
   "cell_type": "code",
   "execution_count": 35,
   "id": "8f23f0aa-4481-4985-969a-e2b05814c441",
   "metadata": {},
   "outputs": [
    {
     "name": "stdin",
     "output_type": "stream",
     "text": [
      "Enter a string to reverse:  454\n"
     ]
    },
    {
     "name": "stdout",
     "output_type": "stream",
     "text": [
      "Reversed string: 454\n"
     ]
    }
   ],
   "source": [
    "# Function to reverse the string using recursion\n",
    "def reverse_string(s):\n",
    "    # Base case: if the string is empty or has only one character, return the string\n",
    "    if len(s) == 0:\n",
    "        return s\n",
    "    else:\n",
    "        # Recursive case: reverse the substring and concatenate the last character\n",
    "        return reverse_string(s[1:]) + s[0]\n",
    "\n",
    "# Input: string to reverse\n",
    "input_string = input(\"Enter a string to reverse: \")\n",
    "\n",
    "# Output the reversed string\n",
    "reversed_string = reverse_string(input_string)\n",
    "print(f\"Reversed string: {reversed_string}\")\n"
   ]
  },
  {
   "cell_type": "code",
   "execution_count": null,
   "id": "312cf952-26a9-431f-932f-fb908f05a7c6",
   "metadata": {},
   "outputs": [],
   "source": []
  }
 ],
 "metadata": {
  "kernelspec": {
   "display_name": "Python 3 (ipykernel)",
   "language": "python",
   "name": "python3"
  },
  "language_info": {
   "codemirror_mode": {
    "name": "ipython",
    "version": 3
   },
   "file_extension": ".py",
   "mimetype": "text/x-python",
   "name": "python",
   "nbconvert_exporter": "python",
   "pygments_lexer": "ipython3",
   "version": "3.11.7"
  }
 },
 "nbformat": 4,
 "nbformat_minor": 5
}
